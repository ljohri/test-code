{
 "cells": [
  {
   "cell_type": "code",
   "execution_count": 21,
   "metadata": {},
   "outputs": [],
   "source": [
    "#https://towardsdatascience.com/getting-census-data-in-5-easy-steps-a08eeb63995d\n",
    "import pandas as pd\n",
    "#make API calls with python\n",
    "import requests\n",
    "#allows us to store results of API call cleanly\n",
    "import json\n",
    "import addfips"
   ]
  },
  {
   "cell_type": "code",
   "execution_count": 22,
   "metadata": {},
   "outputs": [
    {
     "name": "stdout",
     "output_type": "stream",
     "text": [
      "California:06 Santa Clara:06085\n"
     ]
    }
   ],
   "source": [
    "af = addfips.AddFIPS()\n",
    "state_name='California'\n",
    "state_fips=af.get_state_fips(state_name)\n",
    "county_name='Santa Clara'\n",
    "county_fips=af.get_county_fips(county_name, state_name)\n",
    "\n",
    "print(state_name+':'+state_fips+' '+county_name+':'+county_fips)"
   ]
  },
  {
   "cell_type": "code",
   "execution_count": 45,
   "metadata": {},
   "outputs": [
    {
     "name": "stdout",
     "output_type": "stream",
     "text": [
      "[[\"POP\",\"state\",\"county\"],\n",
      "[\"1671329\",\"06\",\"001\"],\n",
      "[\"1129\",\"06\",\"003\"]]\n",
      "-----------\n",
      "POP\n",
      "3\n",
      "         0      1       2\n",
      "0      POP  state  county\n",
      "1  1671329     06     001\n",
      "2     1129     06     003\n"
     ]
    }
   ],
   "source": [
    "#put your census API key here\n",
    "apiKey = \"b4f192c09891cbcd149d89bde758036549d5a30f\"\n",
    "county='001,003'\n",
    "state='06'\n",
    "#example   https://api.census.gov/data/2019/pep/population?get=POP&for=county:*&in=state:*&key=YOUR_KEY_GOES_HERE\n",
    "baseurl = 'https://api.census.gov/data/2019/pep/population?get=POP&'\n",
    "geography = 'for=county:'+ county + '&in=state:' + state + '&key=' \n",
    "baseAPI = baseurl+geography+apiKey\n",
    "#print(baseAPI)\n",
    "response = requests.get(baseAPI)\n",
    "#print(response)\n",
    "print(response.text)\n",
    "print('-----------')\n",
    "formattedResponse = json.loads(response.text)\n",
    "print(formattedResponse[0][0])\n",
    "print(len(formattedResponse))\n",
    "\n",
    "#for i in formattedResponse:\n",
    "#    print(i)\n",
    "j=formattedResponse[:1]\n",
    "pop_table = pd.DataFrame(formattedResponse)\n",
    "\n",
    "print(pop_table)\n",
    "#response = requests.get('https://api.census.gov/data/2019/pep/population?get=POP&for=county:36005&in=state:36&key=b4f192c09891cbcd149d89bde758036549d5a30f')\n",
    "#print(response)\n"
   ]
  },
  {
   "cell_type": "markdown",
   "metadata": {},
   "source": []
  },
  {
   "cell_type": "markdown",
   "metadata": {},
   "source": [
    "https://api.census.gov/data/2019/pep/population?get=POP&for=county:1051&in=state:04&key=b4f192c09891cbcd149d89bde758036549d5a30f  "
   ]
  }
 ],
 "metadata": {
  "kernelspec": {
   "display_name": "Python 3",
   "language": "python",
   "name": "python3"
  },
  "language_info": {
   "codemirror_mode": {
    "name": "ipython",
    "version": 3
   },
   "file_extension": ".py",
   "mimetype": "text/x-python",
   "name": "python",
   "nbconvert_exporter": "python",
   "pygments_lexer": "ipython3",
   "version": "3.7.3"
  }
 },
 "nbformat": 4,
 "nbformat_minor": 2
}
